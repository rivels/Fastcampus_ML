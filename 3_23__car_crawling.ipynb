{
 "cells": [
  {
   "cell_type": "code",
   "execution_count": 7,
   "metadata": {},
   "outputs": [
    {
     "name": "stdout",
     "output_type": "stream",
     "text": [
      "Collecting requests\n",
      "  Downloading requests-2.25.1-py2.py3-none-any.whl (61 kB)\n",
      "\u001b[K     |████████████████████████████████| 61 kB 362 kB/s eta 0:00:01\n",
      "\u001b[?25hRequirement already satisfied: certifi>=2017.4.17 in /Users/song-kang/opt/anaconda3/envs/fc14/lib/python3.7/site-packages (from requests) (2020.12.5)\n",
      "Collecting idna<3,>=2.5\n",
      "  Downloading idna-2.10-py2.py3-none-any.whl (58 kB)\n",
      "\u001b[K     |████████████████████████████████| 58 kB 9.4 MB/s  eta 0:00:01\n",
      "\u001b[?25hCollecting chardet<5,>=3.0.2\n",
      "  Downloading chardet-4.0.0-py2.py3-none-any.whl (178 kB)\n",
      "\u001b[K     |████████████████████████████████| 178 kB 511 kB/s eta 0:00:01\n",
      "\u001b[?25hCollecting urllib3<1.27,>=1.21.1\n",
      "  Downloading urllib3-1.26.4-py2.py3-none-any.whl (153 kB)\n",
      "\u001b[K     |████████████████████████████████| 153 kB 764 kB/s eta 0:00:01\n",
      "\u001b[?25hInstalling collected packages: urllib3, idna, chardet, requests\n",
      "Successfully installed chardet-4.0.0 idna-2.10 requests-2.25.1 urllib3-1.26.4\n"
     ]
    }
   ],
   "source": [
    "!pip install requests"
   ]
  },
  {
   "cell_type": "code",
   "execution_count": 46,
   "metadata": {},
   "outputs": [],
   "source": [
    "import requests\n",
    "from bs4 import BeautifulSoup\n",
    "# from pymongo import MongoClient\n",
    "from random import randint\n",
    "\n",
    "link = 'https://auto.naver.com/car/mainList.nhn'\n",
    "headers = {\n",
    "    'User-Agent': 'Mozilla/5.0 (Windows NT 10.0; Win64; x64)AppleWebKit/537.36 (KHTML, like Gecko) Chrome/73.0.3683.86 Safari/537.36'}\n",
    "\n",
    "data = requests.get(link, headers=headers)\n",
    "soup = BeautifulSoup(data.text, 'html.parser')\n",
    "total = soup.select('#content > div.model_group_new > ul > li')\n",
    "\n",
    "\n",
    "# 차 이름 : content > div.model_group_new > ul > li:nth-child(1) > div > div > a.model_name > span > strong\n",
    "# 차 가격 : content > div.model_group_new > ul > li:nth-child(2) > div > ul > li.price.new > span.cont\n",
    "# 차 연비 : content > div.model_group_new > ul > li:nth-child(1) > div > ul > li.mileage > span:nth-child(2) > span > span"
   ]
  },
  {
   "cell_type": "code",
   "execution_count": 78,
   "metadata": {},
   "outputs": [],
   "source": [
    "import re"
   ]
  },
  {
   "cell_type": "code",
   "execution_count": 66,
   "metadata": {},
   "outputs": [
    {
     "data": {
      "text/plain": [
       "\"\\ndef delete_tag(input_str):\\n    input_str = input_str.replace('<b>','')\\n    input_str = input_str.replace('</b>','')\\n    return input_str\\n\""
      ]
     },
     "execution_count": 66,
     "metadata": {},
     "output_type": "execute_result"
    }
   ],
   "source": [
    "def delete_tag(T):\n",
    "    T = T.replace(\"<strong>\",\"\")\n",
    "    T = T.replace(\"</strong>\",\"\")\n",
    "    return T\n",
    "    \n"
   ]
  },
  {
   "cell_type": "code",
   "execution_count": 152,
   "metadata": {
    "scrolled": true
   },
   "outputs": [
    {
     "name": "stdout",
     "output_type": "stream",
     "text": [
      "2021 스타리아\n",
      "가격정보 없음\n",
      "연비정보 없음\n",
      "차 이름 :  2021 GV70\n",
      "가격 :  4,791 만원 부터 5,724 만원 까지\n",
      "연비 : 8.5 부터 13.5 까지\n",
      "2021 K8\n",
      "가격정보 없음\n",
      "연비정보 없음\n",
      "2021 아이오닉 5\n",
      "가격정보 없음\n",
      "연비정보 없음\n",
      "차 이름 :  2020 아반떼\n",
      "가격 :  1,570 만원 부터 2,779 만원 까지\n",
      "연비 : 10.5 부터 15.4 까지\n",
      "차 이름 :  2021 셀토스\n",
      "가격 :  1,934 만원 부터 2,896 만원 까지\n",
      "연비 : 10.9 부터 17.6 까지\n",
      "차 이름 :  2021 투싼\n",
      "가격 :  2,435 만원 부터 3,567 만원 까지\n",
      "연비 : 11.0 부터 14.8 까지\n",
      "차 이름 :  2020 G80\n",
      "가격 :  5,291 만원 부터 6,214 만원 까지\n",
      "연비 : 8.4 부터 14.6 까지\n",
      "차 이름 :  2021 카니발\n",
      "가격 :  3,160 만원 부터 4,354 만원 까지\n",
      "연비 : 8.9 부터 13.1 까지\n",
      "차 이름 :  2020 GV80\n",
      "가격 :  6,067 만원 부터 6,951 만원 까지\n",
      "연비 : 8.0 부터 11.8 까지\n",
      "차 이름 :  2020 팰리세이드\n",
      "가격 :  3,573 만원 부터 5,563 만원 까지\n",
      "연비 : 8.9 부터 12.1 까지\n",
      "차 이름 :  2021 G70\n",
      "가격 :  4,035 만원 부터 4,830 만원 까지\n",
      "연비 : 8.9 부터 14.9 까지\n",
      "차 이름 :  2021 K5\n",
      "가격 :  2,356 만원 부터 3,151 만원 까지\n",
      "연비 : 9.8 부터 13.8 까지\n",
      "차 이름 :  2020 그랜저\n",
      "가격 :  3,172 만원 부터 4,349 만원 까지\n",
      "연비 : 7.4 부터 11.9 까지\n",
      "차 이름 :  2020 쏘렌토\n",
      "가격 :  2,925 만원 부터 4,113 만원 까지\n",
      "연비 : 9.7 부터 14.3 까지\n"
     ]
    }
   ],
   "source": [
    "for i in total:\n",
    "    title = delete_tag(str(i.select_one('div > div > a.model_name > span > strong')))\n",
    "    price = str(i.select_one('div > ul > li.price.new > span.cont'))\n",
    "    fuel = str(i.select_one('div > ul > li.mileage > span:nth-child(2) > span > span'))\n",
    "    fuel = re.findall('\\d+.\\d+~\\d+.\\d+',fuel)\n",
    "    price = re.findall('\\d+,\\d+~\\d+,\\d+',price)\n",
    "    try:\n",
    "        lprice = price[0].split('~')[0]\n",
    "        hprice = price[0].split('~')[1]\n",
    "        lfuel = fuel[0].split('~')[0]\n",
    "        hfuel = fuel[0].split('~')[1]\n",
    "        print('차 이름 : ',title)\n",
    "        print('가격 : ',lprice,'만원 부터',hprice,'만원 까지')\n",
    "        print('연비 :' ,lfuel,'부터',hfuel,'까지')\n",
    "    except:\n",
    "        print(title)\n",
    "        print('가격정보 없음')\n",
    "        print('연비정보 없음')"
   ]
  },
  {
   "cell_type": "code",
   "execution_count": 122,
   "metadata": {},
   "outputs": [
    {
     "data": {
      "text/plain": [
       "'4,113'"
      ]
     },
     "execution_count": 122,
     "metadata": {},
     "output_type": "execute_result"
    }
   ],
   "source": [
    "price[0].split('~')[1]"
   ]
  },
  {
   "cell_type": "code",
   "execution_count": 31,
   "metadata": {},
   "outputs": [],
   "source": [
    "import urllib.request\n",
    "\n",
    "url = \"https://auto.naver.com/car/mainList.nhn\"\n",
    "\n",
    "request = urllib.request.Request(url)\n",
    "response = urllib.request.urlopen(request)"
   ]
  },
  {
   "cell_type": "code",
   "execution_count": 35,
   "metadata": {},
   "outputs": [
    {
     "data": {
      "text/plain": [
       "200"
      ]
     },
     "execution_count": 35,
     "metadata": {},
     "output_type": "execute_result"
    }
   ],
   "source": [
    "response.getcode()"
   ]
  },
  {
   "cell_type": "code",
   "execution_count": 42,
   "metadata": {},
   "outputs": [
    {
     "name": "stdout",
     "output_type": "stream",
     "text": [
      "\n"
     ]
    }
   ],
   "source": [
    "print(response.read().decode('utf-8'))"
   ]
  },
  {
   "cell_type": "code",
   "execution_count": 38,
   "metadata": {},
   "outputs": [
    {
     "data": {
      "text/plain": [
       "''"
      ]
     },
     "execution_count": 38,
     "metadata": {},
     "output_type": "execute_result"
    }
   ],
   "source": [
    "raw_data = pd.read_excel('./python_books.xlsx',index_col=0)"
   ]
  },
  {
   "cell_type": "code",
   "execution_count": null,
   "metadata": {},
   "outputs": [],
   "source": []
  }
 ],
 "metadata": {
  "kernelspec": {
   "display_name": "Python 3",
   "language": "python",
   "name": "python3"
  },
  "language_info": {
   "codemirror_mode": {
    "name": "ipython",
    "version": 3
   },
   "file_extension": ".py",
   "mimetype": "text/x-python",
   "name": "python",
   "nbconvert_exporter": "python",
   "pygments_lexer": "ipython3",
   "version": "3.8.5"
  }
 },
 "nbformat": 4,
 "nbformat_minor": 5
}
